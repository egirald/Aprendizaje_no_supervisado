{
 "cells": [
  {
   "cell_type": "markdown",
   "metadata": {},
   "source": [
    "## Importación de los datos"
   ]
  },
  {
   "cell_type": "code",
   "execution_count": 18,
   "metadata": {},
   "outputs": [],
   "source": [
    "import pandas as pd\n",
    "import numpy as np\n",
    "import matplotlib.pyplot as plt\n",
    "import seaborn as sns"
   ]
  },
  {
   "cell_type": "code",
   "execution_count": 2,
   "metadata": {},
   "outputs": [
    {
     "data": {
      "text/html": [
       "<div>\n",
       "<style scoped>\n",
       "    .dataframe tbody tr th:only-of-type {\n",
       "        vertical-align: middle;\n",
       "    }\n",
       "\n",
       "    .dataframe tbody tr th {\n",
       "        vertical-align: top;\n",
       "    }\n",
       "\n",
       "    .dataframe thead th {\n",
       "        text-align: right;\n",
       "    }\n",
       "</style>\n",
       "<table border=\"1\" class=\"dataframe\">\n",
       "  <thead>\n",
       "    <tr style=\"text-align: right;\">\n",
       "      <th></th>\n",
       "      <th>Nombre</th>\n",
       "      <th>Frecuencia de radiacion</th>\n",
       "      <th>Modelo del hardware</th>\n",
       "      <th>Altura Antena</th>\n",
       "      <th>Inclinacion Antena</th>\n",
       "      <th>Potencia de radiacion</th>\n",
       "      <th>Ancho de banda</th>\n",
       "      <th>Maximo numero de Usuarios</th>\n",
       "      <th>Codigo de Zona</th>\n",
       "      <th>Multiantena</th>\n",
       "      <th>Velocidad de navegacion promedio[Megabits/s]</th>\n",
       "      <th>Disponibilidad de celda [%]</th>\n",
       "      <th>Navegacion Exitosa [%]</th>\n",
       "    </tr>\n",
       "  </thead>\n",
       "  <tbody>\n",
       "    <tr>\n",
       "      <th>0</th>\n",
       "      <td>BOG.11 de Noviembre_L1</td>\n",
       "      <td>2600.0</td>\n",
       "      <td>HWXX6516DS</td>\n",
       "      <td>16.0</td>\n",
       "      <td>4</td>\n",
       "      <td>43</td>\n",
       "      <td>15 MHz</td>\n",
       "      <td>640</td>\n",
       "      <td>20026</td>\n",
       "      <td>Closed Loop Mimo</td>\n",
       "      <td>20.252267</td>\n",
       "      <td>1.000000</td>\n",
       "      <td>0.999419</td>\n",
       "    </tr>\n",
       "    <tr>\n",
       "      <th>1</th>\n",
       "      <td>BOG.11 de Noviembre_L2</td>\n",
       "      <td>2600.0</td>\n",
       "      <td>HWXX6516DS</td>\n",
       "      <td>16.0</td>\n",
       "      <td>4</td>\n",
       "      <td>43</td>\n",
       "      <td>15 MHz</td>\n",
       "      <td>650</td>\n",
       "      <td>20026</td>\n",
       "      <td>Closed Loop Mimo</td>\n",
       "      <td>16.369700</td>\n",
       "      <td>1.000000</td>\n",
       "      <td>0.999285</td>\n",
       "    </tr>\n",
       "    <tr>\n",
       "      <th>2</th>\n",
       "      <td>BOG.11 de Noviembre_L3</td>\n",
       "      <td>2600.0</td>\n",
       "      <td>HWXX6516DS</td>\n",
       "      <td>16.0</td>\n",
       "      <td>4</td>\n",
       "      <td>43</td>\n",
       "      <td>15 MHz</td>\n",
       "      <td>650</td>\n",
       "      <td>20026</td>\n",
       "      <td>Closed Loop Mimo</td>\n",
       "      <td>18.327097</td>\n",
       "      <td>1.000000</td>\n",
       "      <td>0.999205</td>\n",
       "    </tr>\n",
       "    <tr>\n",
       "      <th>3</th>\n",
       "      <td>BOG.11 de Noviembre_M1</td>\n",
       "      <td>1900.0</td>\n",
       "      <td>TGA-D3-800TV</td>\n",
       "      <td>18.0</td>\n",
       "      <td>7</td>\n",
       "      <td>43</td>\n",
       "      <td>10 MHz</td>\n",
       "      <td>420</td>\n",
       "      <td>20026</td>\n",
       "      <td>Closed Loop Mimo</td>\n",
       "      <td>6.357766</td>\n",
       "      <td>0.792558</td>\n",
       "      <td>0.998299</td>\n",
       "    </tr>\n",
       "    <tr>\n",
       "      <th>4</th>\n",
       "      <td>BOG.11 de Noviembre_M2</td>\n",
       "      <td>1900.0</td>\n",
       "      <td>TGA-D3-800TV</td>\n",
       "      <td>18.0</td>\n",
       "      <td>8</td>\n",
       "      <td>44.8</td>\n",
       "      <td>10 MHz</td>\n",
       "      <td>420</td>\n",
       "      <td>20026</td>\n",
       "      <td>Closed Loop Mimo</td>\n",
       "      <td>9.684789</td>\n",
       "      <td>1.000000</td>\n",
       "      <td>0.998498</td>\n",
       "    </tr>\n",
       "  </tbody>\n",
       "</table>\n",
       "</div>"
      ],
      "text/plain": [
       "                   Nombre  Frecuencia de radiacion Modelo del hardware  \\\n",
       "0  BOG.11 de Noviembre_L1                   2600.0          HWXX6516DS   \n",
       "1  BOG.11 de Noviembre_L2                   2600.0          HWXX6516DS   \n",
       "2  BOG.11 de Noviembre_L3                   2600.0          HWXX6516DS   \n",
       "3  BOG.11 de Noviembre_M1                   1900.0        TGA-D3-800TV   \n",
       "4  BOG.11 de Noviembre_M2                   1900.0        TGA-D3-800TV   \n",
       "\n",
       "   Altura Antena  Inclinacion Antena Potencia de radiacion Ancho de banda  \\\n",
       "0           16.0                   4                    43         15 MHz   \n",
       "1           16.0                   4                    43         15 MHz   \n",
       "2           16.0                   4                    43         15 MHz   \n",
       "3           18.0                   7                    43         10 MHz   \n",
       "4           18.0                   8                  44.8         10 MHz   \n",
       "\n",
       "  Maximo numero de Usuarios Codigo de Zona       Multiantena  \\\n",
       "0                       640          20026  Closed Loop Mimo   \n",
       "1                       650          20026  Closed Loop Mimo   \n",
       "2                       650          20026  Closed Loop Mimo   \n",
       "3                       420          20026  Closed Loop Mimo   \n",
       "4                       420          20026  Closed Loop Mimo   \n",
       "\n",
       "   Velocidad de navegacion promedio[Megabits/s]  Disponibilidad de celda [%]  \\\n",
       "0                                     20.252267                     1.000000   \n",
       "1                                     16.369700                     1.000000   \n",
       "2                                     18.327097                     1.000000   \n",
       "3                                      6.357766                     0.792558   \n",
       "4                                      9.684789                     1.000000   \n",
       "\n",
       "   Navegacion Exitosa [%]  \n",
       "0                0.999419  \n",
       "1                0.999285  \n",
       "2                0.999205  \n",
       "3                0.998299  \n",
       "4                0.998498  "
      ]
     },
     "execution_count": 2,
     "metadata": {},
     "output_type": "execute_result"
    }
   ],
   "source": [
    "datos = pd.read_excel('data/RED LTE.xlsx')\n",
    "datos.head()"
   ]
  },
  {
   "cell_type": "markdown",
   "metadata": {},
   "source": [
    "## Análisis Preliminar"
   ]
  },
  {
   "cell_type": "code",
   "execution_count": 3,
   "metadata": {},
   "outputs": [
    {
     "name": "stdout",
     "output_type": "stream",
     "text": [
      "<class 'pandas.core.frame.DataFrame'>\n",
      "RangeIndex: 71650 entries, 0 to 71649\n",
      "Data columns (total 13 columns):\n",
      " #   Column                                        Non-Null Count  Dtype  \n",
      "---  ------                                        --------------  -----  \n",
      " 0   Nombre                                        71650 non-null  object \n",
      " 1   Frecuencia de radiacion                       71650 non-null  float64\n",
      " 2   Modelo del hardware                           71650 non-null  object \n",
      " 3   Altura Antena                                 71650 non-null  float64\n",
      " 4   Inclinacion Antena                            71650 non-null  int64  \n",
      " 5   Potencia de radiacion                         71650 non-null  object \n",
      " 6   Ancho de banda                                71650 non-null  object \n",
      " 7   Maximo numero de Usuarios                     71650 non-null  object \n",
      " 8   Codigo de Zona                                71650 non-null  object \n",
      " 9   Multiantena                                   71650 non-null  object \n",
      " 10  Velocidad de navegacion promedio[Megabits/s]  70462 non-null  float64\n",
      " 11  Disponibilidad de celda [%]                   70462 non-null  float64\n",
      " 12  Navegacion Exitosa [%]                        70462 non-null  float64\n",
      "dtypes: float64(5), int64(1), object(7)\n",
      "memory usage: 7.1+ MB\n"
     ]
    }
   ],
   "source": [
    "datos.info()"
   ]
  },
  {
   "cell_type": "markdown",
   "metadata": {},
   "source": [
    "Al desplegar la información de la base, observamos que las últimas 3 columnas, correspondientes a los KPI presentan algunos valores nulos. También vemos que hay algunas columnas que tienen un tipo de dato que no corresponde a la naturaleza de columna (Potencia de radicacion y Maximo numero de usuarios), debido principalmente a datos numéricos almacenados como texto."
   ]
  },
  {
   "cell_type": "code",
   "execution_count": 4,
   "metadata": {},
   "outputs": [
    {
     "data": {
      "text/plain": [
       "71559"
      ]
     },
     "execution_count": 4,
     "metadata": {},
     "output_type": "execute_result"
    }
   ],
   "source": [
    "len(datos['Nombre'].unique())"
   ]
  },
  {
   "cell_type": "markdown",
   "metadata": {},
   "source": [
    "Vemos también que el número de nombre únicos no es igual al número total de registros, por lo que se concluye que hay registros con nombres duplicados. Esto corresponde a instancias donde la información de la celda se actualizó más de una vez en el mismo día, por lo que pueden aparecer varios registros de la misma celda (nombre). En este caso, se deben eliminar los duplicados y se deja el último registro, que corresponde a la información más actualizada de la celda."
   ]
  },
  {
   "cell_type": "markdown",
   "metadata": {},
   "source": [
    "## Preprocesamiento"
   ]
  },
  {
   "cell_type": "code",
   "execution_count": 5,
   "metadata": {},
   "outputs": [],
   "source": [
    "# Eliminación de datos faltantes\n",
    "\n",
    "datos_clean = datos.dropna()"
   ]
  },
  {
   "cell_type": "code",
   "execution_count": 6,
   "metadata": {},
   "outputs": [],
   "source": [
    "# Se eliminan los duplicados de nombre\n",
    "\n",
    "datos_clean = datos_clean.drop_duplicates(subset='Nombre', keep='last')"
   ]
  },
  {
   "cell_type": "code",
   "execution_count": 7,
   "metadata": {},
   "outputs": [],
   "source": [
    "# Se cambian los tipos de datos de algunas variables\n",
    "\n",
    "datos_clean['Frecuencia de radiacion'] = datos_clean['Frecuencia de radiacion'].astype('object')\n",
    "datos_clean['Potencia de radiacion'] = datos_clean['Potencia de radiacion'].astype('float')\n",
    "datos_clean['Maximo numero de Usuarios'] = datos_clean['Maximo numero de Usuarios'].astype('int')"
   ]
  },
  {
   "cell_type": "code",
   "execution_count": 8,
   "metadata": {},
   "outputs": [],
   "source": [
    "# Se define el nombre como el índice\n",
    "\n",
    "datos_clean = datos_clean.set_index('Nombre', drop = True)"
   ]
  },
  {
   "cell_type": "markdown",
   "metadata": {},
   "source": [
    "## Análisis Exploratorio"
   ]
  },
  {
   "cell_type": "code",
   "execution_count": 16,
   "metadata": {},
   "outputs": [
    {
     "data": {
      "text/html": [
       "<div>\n",
       "<style scoped>\n",
       "    .dataframe tbody tr th:only-of-type {\n",
       "        vertical-align: middle;\n",
       "    }\n",
       "\n",
       "    .dataframe tbody tr th {\n",
       "        vertical-align: top;\n",
       "    }\n",
       "\n",
       "    .dataframe thead th {\n",
       "        text-align: right;\n",
       "    }\n",
       "</style>\n",
       "<table border=\"1\" class=\"dataframe\">\n",
       "  <thead>\n",
       "    <tr style=\"text-align: right;\">\n",
       "      <th></th>\n",
       "      <th>count</th>\n",
       "      <th>mean</th>\n",
       "      <th>std</th>\n",
       "      <th>min</th>\n",
       "      <th>25%</th>\n",
       "      <th>50%</th>\n",
       "      <th>75%</th>\n",
       "      <th>max</th>\n",
       "    </tr>\n",
       "  </thead>\n",
       "  <tbody>\n",
       "    <tr>\n",
       "      <th>Altura Antena</th>\n",
       "      <td>70371.0</td>\n",
       "      <td>31.255382</td>\n",
       "      <td>14.481396</td>\n",
       "      <td>0.0</td>\n",
       "      <td>21.000000</td>\n",
       "      <td>30.000000</td>\n",
       "      <td>40.000000</td>\n",
       "      <td>100.000000</td>\n",
       "    </tr>\n",
       "    <tr>\n",
       "      <th>Inclinacion Antena</th>\n",
       "      <td>70371.0</td>\n",
       "      <td>5.720553</td>\n",
       "      <td>2.539420</td>\n",
       "      <td>0.0</td>\n",
       "      <td>4.000000</td>\n",
       "      <td>6.000000</td>\n",
       "      <td>7.000000</td>\n",
       "      <td>19.000000</td>\n",
       "    </tr>\n",
       "    <tr>\n",
       "      <th>Potencia de radiacion</th>\n",
       "      <td>70371.0</td>\n",
       "      <td>43.540939</td>\n",
       "      <td>1.764079</td>\n",
       "      <td>18.0</td>\n",
       "      <td>43.000000</td>\n",
       "      <td>43.000000</td>\n",
       "      <td>44.800000</td>\n",
       "      <td>49.000000</td>\n",
       "    </tr>\n",
       "    <tr>\n",
       "      <th>Maximo numero de Usuarios</th>\n",
       "      <td>70371.0</td>\n",
       "      <td>905.341092</td>\n",
       "      <td>318.745182</td>\n",
       "      <td>230.0</td>\n",
       "      <td>650.000000</td>\n",
       "      <td>960.000000</td>\n",
       "      <td>1200.000000</td>\n",
       "      <td>1470.000000</td>\n",
       "    </tr>\n",
       "    <tr>\n",
       "      <th>Velocidad de navegacion promedio[Megabits/s]</th>\n",
       "      <td>70371.0</td>\n",
       "      <td>16.643743</td>\n",
       "      <td>6.366564</td>\n",
       "      <td>0.0</td>\n",
       "      <td>11.784151</td>\n",
       "      <td>16.249735</td>\n",
       "      <td>20.847237</td>\n",
       "      <td>55.561665</td>\n",
       "    </tr>\n",
       "    <tr>\n",
       "      <th>Disponibilidad de celda [%]</th>\n",
       "      <td>70371.0</td>\n",
       "      <td>0.978548</td>\n",
       "      <td>0.096953</td>\n",
       "      <td>0.0</td>\n",
       "      <td>0.999139</td>\n",
       "      <td>1.000000</td>\n",
       "      <td>1.000000</td>\n",
       "      <td>1.000000</td>\n",
       "    </tr>\n",
       "    <tr>\n",
       "      <th>Navegacion Exitosa [%]</th>\n",
       "      <td>70371.0</td>\n",
       "      <td>0.993174</td>\n",
       "      <td>0.062757</td>\n",
       "      <td>0.0</td>\n",
       "      <td>0.996829</td>\n",
       "      <td>0.998575</td>\n",
       "      <td>0.999220</td>\n",
       "      <td>1.000000</td>\n",
       "    </tr>\n",
       "  </tbody>\n",
       "</table>\n",
       "</div>"
      ],
      "text/plain": [
       "                                                count        mean         std  \\\n",
       "Altura Antena                                 70371.0   31.255382   14.481396   \n",
       "Inclinacion Antena                            70371.0    5.720553    2.539420   \n",
       "Potencia de radiacion                         70371.0   43.540939    1.764079   \n",
       "Maximo numero de Usuarios                     70371.0  905.341092  318.745182   \n",
       "Velocidad de navegacion promedio[Megabits/s]  70371.0   16.643743    6.366564   \n",
       "Disponibilidad de celda [%]                   70371.0    0.978548    0.096953   \n",
       "Navegacion Exitosa [%]                        70371.0    0.993174    0.062757   \n",
       "\n",
       "                                                min         25%         50%  \\\n",
       "Altura Antena                                   0.0   21.000000   30.000000   \n",
       "Inclinacion Antena                              0.0    4.000000    6.000000   \n",
       "Potencia de radiacion                          18.0   43.000000   43.000000   \n",
       "Maximo numero de Usuarios                     230.0  650.000000  960.000000   \n",
       "Velocidad de navegacion promedio[Megabits/s]    0.0   11.784151   16.249735   \n",
       "Disponibilidad de celda [%]                     0.0    0.999139    1.000000   \n",
       "Navegacion Exitosa [%]                          0.0    0.996829    0.998575   \n",
       "\n",
       "                                                      75%          max  \n",
       "Altura Antena                                   40.000000   100.000000  \n",
       "Inclinacion Antena                               7.000000    19.000000  \n",
       "Potencia de radiacion                           44.800000    49.000000  \n",
       "Maximo numero de Usuarios                     1200.000000  1470.000000  \n",
       "Velocidad de navegacion promedio[Megabits/s]    20.847237    55.561665  \n",
       "Disponibilidad de celda [%]                      1.000000     1.000000  \n",
       "Navegacion Exitosa [%]                           0.999220     1.000000  "
      ]
     },
     "execution_count": 16,
     "metadata": {},
     "output_type": "execute_result"
    }
   ],
   "source": [
    "# Se imprimen estadísticas descriptivas de los datos numéricos\n",
    "\n",
    "datos_clean.describe().T"
   ]
  },
  {
   "cell_type": "code",
   "execution_count": 15,
   "metadata": {},
   "outputs": [
    {
     "data": {
      "text/html": [
       "<div>\n",
       "<style scoped>\n",
       "    .dataframe tbody tr th:only-of-type {\n",
       "        vertical-align: middle;\n",
       "    }\n",
       "\n",
       "    .dataframe tbody tr th {\n",
       "        vertical-align: top;\n",
       "    }\n",
       "\n",
       "    .dataframe thead th {\n",
       "        text-align: right;\n",
       "    }\n",
       "</style>\n",
       "<table border=\"1\" class=\"dataframe\">\n",
       "  <thead>\n",
       "    <tr style=\"text-align: right;\">\n",
       "      <th></th>\n",
       "      <th>count</th>\n",
       "      <th>unique</th>\n",
       "      <th>top</th>\n",
       "      <th>freq</th>\n",
       "    </tr>\n",
       "  </thead>\n",
       "  <tbody>\n",
       "    <tr>\n",
       "      <th>Frecuencia de radiacion</th>\n",
       "      <td>70371</td>\n",
       "      <td>5</td>\n",
       "      <td>1900</td>\n",
       "      <td>20741</td>\n",
       "    </tr>\n",
       "    <tr>\n",
       "      <th>Modelo del hardware</th>\n",
       "      <td>70371</td>\n",
       "      <td>167</td>\n",
       "      <td>ASI4517R3v18</td>\n",
       "      <td>10357</td>\n",
       "    </tr>\n",
       "    <tr>\n",
       "      <th>Ancho de banda</th>\n",
       "      <td>70371</td>\n",
       "      <td>4</td>\n",
       "      <td>15 MHz</td>\n",
       "      <td>40520</td>\n",
       "    </tr>\n",
       "    <tr>\n",
       "      <th>Codigo de Zona</th>\n",
       "      <td>70371</td>\n",
       "      <td>252</td>\n",
       "      <td>27012</td>\n",
       "      <td>1668</td>\n",
       "    </tr>\n",
       "    <tr>\n",
       "      <th>Multiantena</th>\n",
       "      <td>70371</td>\n",
       "      <td>6</td>\n",
       "      <td>Closed Loop MIMO (4x4)</td>\n",
       "      <td>34170</td>\n",
       "    </tr>\n",
       "  </tbody>\n",
       "</table>\n",
       "</div>"
      ],
      "text/plain": [
       "                         count unique                     top   freq\n",
       "Frecuencia de radiacion  70371      5                    1900  20741\n",
       "Modelo del hardware      70371    167            ASI4517R3v18  10357\n",
       "Ancho de banda           70371      4                  15 MHz  40520\n",
       "Codigo de Zona           70371    252                   27012   1668\n",
       "Multiantena              70371      6  Closed Loop MIMO (4x4)  34170"
      ]
     },
     "execution_count": 15,
     "metadata": {},
     "output_type": "execute_result"
    }
   ],
   "source": [
    "# Se imprimen estadísticas descriptivas de los datos categóricos\n",
    "\n",
    "datos_clean.describe(include='object').T"
   ]
  },
  {
   "cell_type": "code",
   "execution_count": 21,
   "metadata": {},
   "outputs": [
    {
     "data": {
      "image/png": "[encoded data removed]",
      "text/plain": [
       "<Figure size 432x288 with 1 Axes>"
      ]
     },
     "metadata": {
      "needs_background": "light"
     },
     "output_type": "display_data"
    }
   ],
   "source": [
    "sns.kdeplot(datos_clean['Potencia de radiacion'])\n",
    "plt.show()"
   ]
  },
  {
   "cell_type": "code",
   "execution_count": 24,
   "metadata": {},
   "outputs": [
    {
     "data": {
      "image/png": "[encoded data removed]",
      "text/plain": [
       "<Figure size 432x288 with 1 Axes>"
      ]
     },
     "metadata": {
      "needs_background": "light"
     },
     "output_type": "display_data"
    }
   ],
   "source": [
    "sns.histplot(datos_clean['Velocidad de navegacion promedio[Megabits/s]'], kde = True)\n",
    "plt.show()"
   ]
  },
  {
   "cell_type": "code",
   "execution_count": 27,
   "metadata": {},
   "outputs": [
    {
     "data": {
      "image/png": "[encoded data removed]",
      "text/plain": [
       "<Figure size 432x288 with 1 Axes>"
      ]
     },
     "metadata": {
      "needs_background": "light"
     },
     "output_type": "display_data"
    }
   ],
   "source": [
    "sns.kdeplot(datos_clean['Disponibilidad de celda [%]'])\n",
    "plt.show()"
   ]
  },
  {
   "cell_type": "code",
   "execution_count": 28,
   "metadata": {},
   "outputs": [
    {
     "data": {
      "image/png": "[encoded data removed]",
      "text/plain": [
       "<Figure size 432x288 with 1 Axes>"
      ]
     },
     "metadata": {
      "needs_background": "light"
     },
     "output_type": "display_data"
    }
   ],
   "source": [
    "sns.kdeplot(datos_clean['Navegacion Exitosa [%]'])\n",
    "plt.show()"
   ]
  },
  {
   "cell_type": "code",
   "execution_count": null,
   "metadata": {},
   "outputs": [],
   "source": []
  }
 ],
 "metadata": {
  "kernelspec": {
   "display_name": "Python 3 (ipykernel)",
   "language": "python",
   "name": "python3"
  },
  "language_info": {
   "codemirror_mode": {
    "name": "ipython",
    "version": 3
   },
   "file_extension": ".py",
   "mimetype": "text/x-python",
   "name": "python",
   "nbconvert_exporter": "python",
   "pygments_lexer": "ipython3",
   "version": "3.10.6"
  }
 },
 "nbformat": 4,
 "nbformat_minor": 4
}
